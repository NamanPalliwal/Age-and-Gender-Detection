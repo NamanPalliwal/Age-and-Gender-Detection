{
 "cells": [
  {
   "cell_type": "code",
   "execution_count": 1,
   "metadata": {},
   "outputs": [],
   "source": [
    "# Import required modules\n",
    "import cv2 as cv\n",
    "import math\n",
    "import time"
   ]
  },
  {
   "cell_type": "code",
   "execution_count": 2,
   "metadata": {},
   "outputs": [],
   "source": [
    "def getFaceBox(net, frame, conf_threshold=0.7):\n",
    "    frameOpencvDnn = frame.copy()\n",
    "    frameHeight = frameOpencvDnn.shape[0]\n",
    "    frameWidth = frameOpencvDnn.shape[1]\n",
    "    blob = cv.dnn.blobFromImage(frameOpencvDnn, 1.0, (300, 300), [\n",
    "                                104, 117, 123], True, False)\n",
    "\n",
    "    net.setInput(blob)\n",
    "    detections = net.forward()\n",
    "    bboxes = []\n",
    "    for i in range(detections.shape[2]):\n",
    "        confidence = detections[0, 0, i, 2]\n",
    "        if confidence > conf_threshold:\n",
    "            x1 = int(detections[0, 0, i, 3] * frameWidth)\n",
    "            y1 = int(detections[0, 0, i, 4] * frameHeight)\n",
    "            x2 = int(detections[0, 0, i, 5] * frameWidth)\n",
    "            y2 = int(detections[0, 0, i, 6] * frameHeight)\n",
    "            bboxes.append([x1, y1, x2, y2])\n",
    "            cv.rectangle(frameOpencvDnn, (x1, y1), (x2, y2),\n",
    "                         (0, 255, 0), int(round(frameHeight/150)), 8)\n",
    "    return frameOpencvDnn, bboxes"
   ]
  },
  {
   "cell_type": "code",
   "execution_count": 3,
   "metadata": {},
   "outputs": [],
   "source": [
    "#Load pre-trained models\n",
    "faceProto = \"opencv_face_detector.pbtxt\"\n",
    "faceModel = \"opencv_face_detector_uint8.pb\"\n",
    "\n",
    "ageProto = \"age_deploy.prototxt\"\n",
    "ageModel = \"age_net.caffemodel\"\n",
    "\n",
    "genderProto = \"gender_deploy.prototxt\"\n",
    "genderModel = \"gender_net.caffemodel\""
   ]
  },
  {
   "cell_type": "code",
   "execution_count": 4,
   "metadata": {},
   "outputs": [],
   "source": [
    "MODEL_MEAN_VALUES = (78.4263377603, 87.7689143744, 114.895847746)\n",
    "ageList = ['(0-2)', '(4-6)', '(8-12)', '(15-20)',\n",
    "           '(25-32)', '(38-43)', '(48-53)', '(60-100)']\n",
    "genderList = ['Male', 'Female']"
   ]
  },
  {
   "cell_type": "code",
   "execution_count": 5,
   "metadata": {},
   "outputs": [],
   "source": [
    "# Load network\n",
    "ageNet = cv.dnn.readNetFromCaffe(ageProto, ageModel)\n",
    "genderNet = cv.dnn.readNetFromCaffe(genderProto, genderModel)\n",
    "faceNet = cv.dnn.readNet(faceModel, faceProto)"
   ]
  },
  {
   "cell_type": "code",
   "execution_count": 8,
   "metadata": {},
   "outputs": [
    {
     "name": "stdout",
     "output_type": "stream",
     "text": [
      "Gender : Male, confidence = 0.965\n",
      "Age : (25-32), confidence = 0.735\n",
      "Time : 0.483\n",
      "Gender : Male, confidence = 0.986\n",
      "Age : (0-2), confidence = 0.885\n",
      "Time : 0.221\n",
      "Gender : Male, confidence = 0.840\n",
      "Age : (0-2), confidence = 0.972\n",
      "Time : 0.203\n",
      "Gender : Male, confidence = 0.963\n",
      "Age : (0-2), confidence = 0.911\n",
      "Time : 0.205\n",
      "Gender : Male, confidence = 1.000\n",
      "Age : (25-32), confidence = 0.959\n",
      "Time : 0.204\n",
      "Gender : Male, confidence = 1.000\n",
      "Age : (25-32), confidence = 0.965\n",
      "Time : 0.204\n",
      "Gender : Male, confidence = 1.000\n",
      "Age : (25-32), confidence = 0.641\n",
      "Time : 0.204\n",
      "Gender : Male, confidence = 1.000\n",
      "Age : (25-32), confidence = 0.866\n",
      "Time : 0.203\n",
      "Gender : Male, confidence = 0.999\n",
      "Age : (25-32), confidence = 0.998\n",
      "Time : 0.222\n",
      "Gender : Male, confidence = 1.000\n",
      "Age : (25-32), confidence = 0.985\n",
      "Time : 0.216\n",
      "Gender : Male, confidence = 1.000\n",
      "Age : (25-32), confidence = 0.996\n",
      "Time : 0.217\n",
      "Gender : Male, confidence = 1.000\n",
      "Age : (25-32), confidence = 0.990\n",
      "Time : 0.205\n",
      "Gender : Male, confidence = 1.000\n",
      "Age : (25-32), confidence = 0.991\n"
     ]
    }
   ],
   "source": [
    "# Open a camera stream or video file\n",
    "cap = cv.VideoCapture(0) # Write video path instead of 0 to input video file\n",
    "padding = 20\n",
    "k=-cv.waitKey(1)\n",
    "while cv.waitKey(1)<0:\n",
    "    k = cv.waitKey(100)\n",
    "    # Read frame\n",
    "    t = time.time()\n",
    "    hasFrame, frame = cap.read()\n",
    "    if not hasFrame:\n",
    "        cv.waitKey()\n",
    "        break\n",
    "    frameFace, bboxes = getFaceBox(faceNet, frame)\n",
    "    if not bboxes:\n",
    "        print(\"No face Detected, Checking next frame\")\n",
    "        continue\n",
    "\n",
    "    for bbox in bboxes:\n",
    "        # print(bbox)\n",
    "        face = frame[max(0, bbox[1]-padding):min(bbox[3]+padding, frame.shape[0]-1),\n",
    "                     max(0, bbox[0]-padding):min(bbox[2]+padding, frame.shape[1]-1)]\n",
    "\n",
    "        blob = cv.dnn.blobFromImage(\n",
    "            face, 1.0, (227, 227), MODEL_MEAN_VALUES, swapRB=False)\n",
    "        genderNet.setInput(blob)\n",
    "        genderPreds = genderNet.forward()\n",
    "        gender = genderList[genderPreds[0].argmax()]\n",
    "\n",
    "        print(\"Gender : {}, confidence = {:.3f}\".format(\n",
    "            gender, genderPreds[0].max()))\n",
    "\n",
    "        ageNet.setInput(blob)\n",
    "        agePreds = ageNet.forward()\n",
    "        age = ageList[agePreds[0].argmax()]\n",
    "\n",
    "        print(\"Age : {}, confidence = {:.3f}\".format(age, agePreds[0].max()))\n",
    "\n",
    "        label = \"{},{}\".format(gender, age)\n",
    "        cv.putText(frameFace, label, (bbox[0]-5, bbox[1]-10),\n",
    "                   cv.FONT_HERSHEY_SIMPLEX, 0.75, (0, 0, 255), 2, cv.LINE_AA)\n",
    "        cv.imshow(\"Age Gender Demo\", frameFace)\n",
    "        cv.waitKey(100)\n",
    "    if cv.getWindowProperty('Age Gender Demo',0)<0:\n",
    "        cv.destroyAllWindows()\n",
    "        break\n",
    "    else:\n",
    "        pass\n",
    "    print(\"Time : {:.3f}\".format(time.time() - t))\n",
    "cap.release()"
   ]
  },
  {
   "cell_type": "code",
   "execution_count": 7,
   "metadata": {},
   "outputs": [
    {
     "name": "stdout",
     "output_type": "stream",
     "text": [
      "Gender : Male, confidence = 1.000\n",
      "Age : (48-53), confidence = 0.463\n"
     ]
    }
   ],
   "source": [
    "#For image\n",
    "padding = 20\n",
    "frame = cv.imread('C:\\\\Users\\\\User\\\\Desktop\\\\Python\\\\Project8-Gender_Age_AI\\\\Project8-Gender_Age_AI\\\\1.jpg')\n",
    "frameFace, bboxes = getFaceBox(faceNet, frame)\n",
    "if not bboxes:\n",
    "   print(\"No face Detected, Checking next frame\")\n",
    "   #continue\n",
    "\n",
    "for bbox in bboxes:\n",
    "   # print(bbox)\n",
    "   face = frame[max(0, bbox[1]-padding):min(bbox[3]+padding, frame.shape[0]-1),\n",
    "                max(0, bbox[0]-padding):min(bbox[2]+padding, frame.shape[1]-1)]\n",
    "   blob = cv.dnn.blobFromImage(\n",
    "            face, 1.0, (227, 227), MODEL_MEAN_VALUES, swapRB=False)\n",
    "   genderNet.setInput(blob)\n",
    "   genderPreds = genderNet.forward()\n",
    "   gender = genderList[genderPreds[0].argmax()]\n",
    "\n",
    "   print(\"Gender : {}, confidence = {:.3f}\".format(\n",
    "       gender, genderPreds[0].max()))\n",
    "\n",
    "   ageNet.setInput(blob)\n",
    "   agePreds = ageNet.forward()\n",
    "   age = ageList[agePreds[0].argmax()]\n",
    "\n",
    "   print(\"Age : {}, confidence = {:.3f}\".format(age, agePreds[0].max()))\n",
    "\n",
    "   label = \"{},{}\".format(gender, age)\n",
    "   cv.putText(frameFace, label, (bbox[0]-5, bbox[1]-10),\n",
    "                   cv.FONT_HERSHEY_SIMPLEX, 0.75, (0, 0, 255), 2, cv.LINE_AA)\n",
    "   cv.imshow(\"Age Gender Demo\", frameFace)\n",
    "   cv.waitKey(0)"
   ]
  }
 ],
 "metadata": {
  "interpreter": {
   "hash": "71766a65e9767bb06c4e7aa21ddf12daa8f9b098f5c34ac8f616506af3b8449c"
  },
  "kernelspec": {
   "display_name": "Python 3.9.5 64-bit",
   "language": "python",
   "name": "python3"
  },
  "language_info": {
   "codemirror_mode": {
    "name": "ipython",
    "version": 3
   },
   "file_extension": ".py",
   "mimetype": "text/x-python",
   "name": "python",
   "nbconvert_exporter": "python",
   "pygments_lexer": "ipython3",
   "version": "3.9.5"
  },
  "orig_nbformat": 4
 },
 "nbformat": 4,
 "nbformat_minor": 2
}
